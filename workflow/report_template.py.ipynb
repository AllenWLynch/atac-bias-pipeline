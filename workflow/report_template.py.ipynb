{
 "cells": [
  {
   "cell_type": "code",
   "execution_count": 2,
   "metadata": {},
   "outputs": [],
   "source": [
    "import scripts.notebook_utils as utils\n",
    "import numpy as np\n",
    "import scanpy as sc\n",
    "import pandas as pd\n",
    "import matplotlib.pyplot as plt\n",
    "import seaborn as sns\n",
    "sns.set(style = 'ticks')\n",
    "import importlib\n",
    "import warnings\n",
    "import os\n",
    "import pickle\n",
    "from io import StringIO\n",
    "warnings.filterwarnings(\"ignore\")"
   ]
  },
  {
   "cell_type": "code",
   "execution_count": 3,
   "metadata": {},
   "outputs": [],
   "source": [
    "paths = {}\n",
    "try:\n",
    "    snakemake\n",
    "    paths = {k:v for k,v in snakemake.input.items()}\n",
    "    with open(snakemake.output.paths, 'wb') as f:\n",
    "        pickle.dump(paths, f)\n",
    "except NameError:\n",
    "    with open('./paths.pkl','rb') as f:\n",
    "        paths = pickle.load(f)"
   ]
  },
  {
   "cell_type": "markdown",
   "metadata": {},
   "outputs": [],
   "source": [
    "# Load Data"
   ]
  },
  {
   "cell_type": "code",
   "execution_count": 4,
   "metadata": {},
   "outputs": [],
   "source": [
    "paths"
   ]
  },
  {
   "cell_type": "code",
   "execution_count": 5,
   "metadata": {},
   "outputs": [],
   "source": [
    "utils = importlib.reload(utils)"
   ]
  },
  {
   "cell_type": "code",
   "execution_count": 6,
   "metadata": {},
   "outputs": [],
   "source": [
    "raw_data = utils.read_sparse_countmatrix(paths['barcodes'], paths['peaks'], paths['counts'])\n",
    "corrected_data = utils.read_sparse_countmatrix(paths['barcodes'], paths['peaks'], paths['corrected_counts'])\n",
    "dupcounts = pd.read_csv(paths['dupcounts'], sep = '\\t')\n",
    "sample_fragments = utils.read_bias_file(paths['sample_fragments'])"
   ]
  },
  {
   "cell_type": "code",
   "execution_count": 7,
   "metadata": {},
   "outputs": [],
   "source": [
    "raw_data_lsi_model, resolution = utils.process_counts(raw_data, tune = True)\n",
    "\n",
    "corrected_data_lsi_model, _ = utils.process_counts(corrected_data, 10**resolution)"
   ]
  },
  {
   "cell_type": "markdown",
   "metadata": {},
   "outputs": [],
   "source": [
    "# Fragment Model Performance"
   ]
  },
  {
   "cell_type": "code",
   "execution_count": 8,
   "metadata": {},
   "outputs": [],
   "source": [
    "points = utils.benchmark_fragment_model(sample_fragments, dupcounts, raw_data.var)\n",
    "\n",
    "ax = sns.displot(points, x = 'log_duprate', y = 'true_log_duprate', kind = 'kde')\n",
    "ax.set(xlabel = 'Predicted Fragment Count', ylabel = 'Observed Fragment Count')"
   ]
  },
  {
   "cell_type": "markdown",
   "metadata": {},
   "outputs": [],
   "source": [
    "# Compare UMAPs"
   ]
  },
  {
   "cell_type": "code",
   "execution_count": 9,
   "metadata": {},
   "outputs": [],
   "source": [
    "hue_order = sorted(np.unique(raw_data.obs.leiden))\n",
    "\n",
    "fig, ax = plt.subplots(1,3, figsize = (14,5))\n",
    "utils.plot_umap(corrected_data, color_key=raw_data.obs.leiden, quantitative=False, ax = ax[1], hue_order=hue_order)\n",
    "ax[1].set(title = 'Bias-corrected UMAP', xlabel = 'Colored by UNcorrected clustering')\n",
    "utils.plot_umap(raw_data, color_key='leiden', quantitative=False, ax = ax[2], legend = True, hue_order=hue_order)\n",
    "ax[2].set(title = 'Uncorrected UMAP',xlabel = 'Colored by UNcorrected clustering')\n",
    "utils.plot_umap(corrected_data, color_key=corrected_data.obs.leiden, quantitative=False, ax = ax[0], legend =False)\n",
    "ax[0].set(title = 'Bias-corrected UMAP', xlabel = 'Colored by corrected cluster')"
   ]
  },
  {
   "cell_type": "markdown",
   "metadata": {},
   "outputs": [],
   "source": [
    "# Observe Bias Concentration"
   ]
  },
  {
   "cell_type": "code",
   "execution_count": 10,
   "metadata": {},
   "outputs": [],
   "source": [
    "fig,ax = plt.subplots(1,1, figsize=(10,6))\n",
    "ax = sns.scatterplot(data = raw_data.obs, x = 'fragment_count', y ='mean_log_duprate', hue = 'leiden', legend = False,\n",
    "                    hue_order= hue_order, linewidth = 0, s = 10, alpha = 0.8, ax = ax)\n",
    "ax.set(xscale = 'log', xlabel = 'log(Fragment Count)', ylabel = 'Mean log(duplication rate) per cell')\n",
    "sns.despine()"
   ]
  },
  {
   "cell_type": "code",
   "execution_count": 11,
   "metadata": {},
   "outputs": [],
   "source": [
    "fig, ax = plt.subplots(1,2, figsize=(14,5))\n",
    "\n",
    "utils.plot_umap(raw_data, color_key = 'mean_log_duprate', ax = ax[0])\n",
    "ax[0].set(title = 'Mean Bias Per Cell')\n",
    "utils.plot_umap(raw_data, color_key='fragment_count', ax = ax[1])\n",
    "ax[1].set(title = 'Fragment Count Per Cell')"
   ]
  },
  {
   "cell_type": "markdown",
   "metadata": {},
   "outputs": [],
   "source": [
    "# Enrichment of Biased Peaks Per Cluster"
   ]
  },
  {
   "cell_type": "code",
   "execution_count": 12,
   "metadata": {},
   "outputs": [],
   "source": [
    "cluster_enrichments = utils.get_bias_peak_enrichment(raw_data, 'leiden')\n",
    "\n",
    "sns.displot(data = cluster_enrichments, hue = 'cluster_id', x = 'rank', \n",
    "            kind = 'kde', common_norm = False, hue_order= hue_order, height = 7, aspect = 1.5)\n",
    "plt.show()"
   ]
  },
  {
   "cell_type": "markdown",
   "metadata": {},
   "outputs": [],
   "source": [
    "# Cell-Specific Effects Analysis"
   ]
  },
  {
   "cell_type": "code",
   "execution_count": 13,
   "metadata": {},
   "outputs": [],
   "source": [
    "unbiased_rank, biased_rank = np.quantile(raw_data.var['rank'].dropna().values, [0.3,0.7])\n",
    "peaks_of_interest = pd.concat([\n",
    "    raw_data.var[raw_data.var['rank'] >= biased_rank].sample(10),\n",
    "    raw_data.var[raw_data.var['rank'] <= unbiased_rank].sample(10)\n",
    "])['peak_id'].values\n",
    "\n",
    "peaks_str = '\\n'.join(\n",
    "    peak.replace('_','\\t') for peak in peaks_of_interest\n",
    ")"
   ]
  },
  {
   "cell_type": "code",
   "execution_count": 14,
   "metadata": {},
   "outputs": [],
   "source": [
    "fragment_file = paths['fragments']"
   ]
  },
  {
   "cell_type": "code",
   "execution_count": null,
   "metadata": {},
   "outputs": [],
   "source": [
    "relavant_peaks = !bedtools intersect -a $fragment_file -b stdin -sorted < <(echo \"$peaks_str\" | sort -k1,1 -k2,2n)"
   ]
  },
  {
   "cell_type": "code",
   "execution_count": null,
   "metadata": {},
   "outputs": [],
   "source": [
    "stratified_sample = utils.get_fragment_distribution_by_peak_and_cluster(raw_data, '\\n'.join(relavant_peaks), 'leiden')\n",
    "\n",
    "fig, ax = plt.subplots(figsize = (15,5))\n",
    "sns.swarmplot(data = stratified_sample.sort_values('rank'), x = 'peak_id', y = 'log_duprate', hue = 'leiden', \n",
    "              ax = ax, dodge = True, size = 1.5, \n",
    "              order = stratified_sample.groupby('peak_id')['rank'].first().sort_values().index.values)\n",
    "sns.despine()\n",
    "ax.set(xticks = [], ylabel = 'Log(Duplication Rate)', xlabel = 'less bias ← Peaks → more bias')\n",
    "plt.show()"
   ]
  },
  {
   "cell_type": "markdown",
   "metadata": {},
   "outputs": [],
   "source": [
    "# Differential Peaks Analysis"
   ]
  },
  {
   "cell_type": "code",
   "execution_count": null,
   "metadata": {},
   "outputs": [],
   "source": [
    "diffpeaks = utils.get_differential_peaks(raw_data)"
   ]
  },
  {
   "cell_type": "code",
   "execution_count": null,
   "metadata": {},
   "outputs": [],
   "source": [
    "for cluster, data in diffpeaks.T.iterrows():\n",
    "    with open(os.path.join(snakemake.output.diffpeaks, 'cluster_{}_diffpeaks.bed'.format(str(cluster))), 'w') as f:\n",
    "        print('\\n'.join([x.replace('_','\\t') for x in data.values]), file = f)"
   ]
  },
  {
   "cell_type": "markdown",
   "metadata": {},
   "outputs": [],
   "source": [
    "# Peak-Bias Heterogeneity"
   ]
  },
  {
   "cell_type": "code",
   "execution_count": null,
   "metadata": {},
   "outputs": [],
   "source": [
    "results = []\n",
    "for i, l in enumerate(raw_data.var.dropna().sample(20).samples.values):\n",
    "    for x in l.strip('[]').split(', '):\n",
    "        results.append((i, float(x)))\n",
    "\n",
    "peak_samples = pd.DataFrame(results, columns = ['peak_id','log_duprate'])"
   ]
  },
  {
   "cell_type": "code",
   "execution_count": null,
   "metadata": {},
   "outputs": [],
   "source": [
    "fig, ax = plt.subplots(figsize = (15,5))\n",
    "sns.violinplot(data = peak_samples, x = 'peak_id', y ='log_duprate', ax = ax)\n",
    "ax.set(xticks = [], ylabel = 'Log(duprate)', xlabel = 'Peaks')\n",
    "sns.despine()\n",
    "plt.show()"
   ]
  },
  {
   "cell_type": "markdown",
   "metadata": {},
   "outputs": [],
   "source": [
    "# Which cells change neighbors?"
   ]
  },
  {
   "cell_type": "code",
   "execution_count": null,
   "metadata": {},
   "outputs": [],
   "source": [
    "utils.compute_neighborhood_change(control=raw_data, treatment=corrected_data, cluster_key='leiden')"
   ]
  },
  {
   "cell_type": "code",
   "execution_count": null,
   "metadata": {},
   "outputs": [],
   "source": [
    "ax = utils.plot_umap(raw_data, color_key='neighbor_change')\n",
    "ax.set(title = 'Change in neighbors in debiasing treatment')"
   ]
  }
 ],
 "metadata": {
  "kernelspec": {
   "display_name": "Python 3",
   "language": "python",
   "name": "python3"
  },
  "language_info": {
   "codemirror_mode": {
    "name": "ipython",
    "version": 3
   },
   "file_extension": ".py",
   "mimetype": "text/x-python",
   "name": "python",
   "nbconvert_exporter": "python",
   "pygments_lexer": "ipython3",
   "version": "3.6.11"
  }
 },
 "nbformat": 4,
 "nbformat_minor": 4
}
