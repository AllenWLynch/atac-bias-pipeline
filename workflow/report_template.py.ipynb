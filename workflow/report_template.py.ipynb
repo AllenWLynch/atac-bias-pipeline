{
 "cells": [
  {
   "cell_type": "code",
   "execution_count": 29,
   "metadata": {},
   "outputs": [],
   "source": [
    "import scripts.notebook_utils as utils\n",
    "import numpy as np\n",
    "import scanpy as sc\n",
    "import pandas as pd\n",
    "import matplotlib.pyplot as plt\n",
    "import seaborn as sns\n",
    "sns.set(style = 'ticks')\n",
    "import importlib\n",
    "import warnings\n",
    "import os\n",
    "warnings.filterwarnings(\"ignore\")"
   ]
  },
  {
   "cell_type": "markdown",
   "metadata": {},
   "outputs": [],
   "source": [
    "# Load Data"
   ]
  },
  {
   "cell_type": "code",
   "execution_count": 3,
   "metadata": {},
   "outputs": [],
   "source": [
    "fragments = utils.read_bias_file(snakemake.input.fragments)\n",
    "\n",
    "corrected_data = utils.read_sparse_countmatrix(snakemake.input.barcodes, snakemake.input.peaks, snakemake.input.corrected_counts)\n",
    "corrected_data_lsi_model = utils.process_counts(corrected_data)\n",
    "\n",
    "raw_data = utils.read_sparse_countmatrix(snakemake.input.barcodes, snakemake.input.peaks, snakemake.input.counts)\n",
    "raw_data_lsi_model = utils.process_counts(raw_data)\n",
    "\n",
    "fragments = fragments.merge(corrected_data.obs.reset_index().rename(columns = {'index' : 'barcode'})['barcode'], on = 'barcode', how = 'right')"
   ]
  },
  {
   "cell_type": "markdown",
   "metadata": {},
   "outputs": [],
   "source": [
    "# Fragment Model Performance"
   ]
  },
  {
   "cell_type": "code",
   "execution_count": 4,
   "metadata": {},
   "outputs": [],
   "source": [
    "points = utils.benchmark_fragment_model(fragments)\n",
    "\n",
    "ax = sns.displot(points, x = 'log_duprate', y = 'true_log_duprate', kind = 'kde')\n",
    "ax.set(xlabel = 'Predicted Fragment Count', ylabel = 'Observed Fragment Count')"
   ]
  },
  {
   "cell_type": "markdown",
   "metadata": {},
   "outputs": [],
   "source": [
    "# Compare UMAPs"
   ]
  },
  {
   "cell_type": "code",
   "execution_count": 16,
   "metadata": {},
   "outputs": [],
   "source": [
    "fig, ax = plt.subplots(1,2, figsize = (14,5))\n",
    "utils.plot_umap(corrected_data, color_key=raw_data.obs.leiden, quantitative=False, ax = ax[0])\n",
    "ax[0].set(title = 'Bias-corrected UMAP', xlabel = 'Colored by uncorrected clustering')\n",
    "utils.plot_umap(raw_data, color_key='leiden', quantitative=False, ax = ax[1], legend = True)\n",
    "ax[1].set(title = 'Uncorrected UMAP')"
   ]
  },
  {
   "cell_type": "markdown",
   "metadata": {},
   "outputs": [],
   "source": [
    "# Observe Bias Concentration"
   ]
  },
  {
   "cell_type": "code",
   "execution_count": 6,
   "metadata": {},
   "outputs": [],
   "source": [
    "barcode_stats = utils.aggregate_cell_stats(fragments).join(raw_data.obs.leiden)"
   ]
  },
  {
   "cell_type": "code",
   "execution_count": 7,
   "metadata": {},
   "outputs": [],
   "source": [
    "ax = sns.scatterplot(data = barcode_stats, x = 'fragment_count', y ='mean_log_duprate', hue = 'leiden', legend = False)\n",
    "ax.set(xscale = 'log', xlabel = 'log(Fragment Count)', ylabel = 'Mean log(duplication rate) per cell')\n",
    "sns.despine()"
   ]
  },
  {
   "cell_type": "code",
   "execution_count": 8,
   "metadata": {},
   "outputs": [],
   "source": [
    "raw_data.obs = raw_data.obs.join(barcode_stats[['mean_log_duprate', 'fragment_count']])"
   ]
  },
  {
   "cell_type": "code",
   "execution_count": 9,
   "metadata": {},
   "outputs": [],
   "source": [
    "fig, ax = plt.subplots(1,2, figsize=(14,5))\n",
    "\n",
    "utils.plot_umap(raw_data, color_key = 'mean_log_duprate', ax = ax[0])\n",
    "ax[0].set(title = 'Mean Bias Per Cell')\n",
    "utils.plot_umap(raw_data, color_key='fragment_count', ax = ax[1])\n",
    "ax[1].set(title = 'Fragment Count Per Cell')"
   ]
  },
  {
   "cell_type": "markdown",
   "metadata": {},
   "outputs": [],
   "source": [
    "# Enrichment of Biased Peaks Per Cluster"
   ]
  },
  {
   "cell_type": "code",
   "execution_count": 10,
   "metadata": {},
   "outputs": [],
   "source": [
    "peak_ranks = utils.rank_peaks(fragments).dropna()\n",
    "\n",
    "cluster_enrichments = utils.get_bias_peak_enrichment(fragments, raw_data.obs.leiden, peak_ranks).astype(float)"
   ]
  },
  {
   "cell_type": "code",
   "execution_count": 11,
   "metadata": {},
   "outputs": [],
   "source": [
    "sns.displot(data = cluster_enrichments.reset_index(), hue = 'cluster', x = 'rank', \n",
    "            kind = 'kde', common_norm = False)"
   ]
  },
  {
   "cell_type": "markdown",
   "metadata": {},
   "outputs": [],
   "source": [
    "# Cell-Specific Effects Analysis"
   ]
  },
  {
   "cell_type": "code",
   "execution_count": 14,
   "metadata": {},
   "outputs": [],
   "source": [
    "stratified_sample = utils.get_fragment_distribution_by_peak_and_cluster(fragments, \n",
    "        raw_data.obs.leiden[raw_data.obs.leiden.isin(['0','1'])], peak_ranks)"
   ]
  },
  {
   "cell_type": "code",
   "execution_count": 15,
   "metadata": {},
   "outputs": [],
   "source": [
    "fig, ax = plt.subplots(figsize = (15,5))\n",
    "sns.swarmplot(data = stratified_sample, x = 'peak_id', y = 'log_duprate_y', hue = 'cluster', \n",
    "              ax = ax, dodge = True, size = 1.5, \n",
    "              order = stratified_sample.groupby('peak_id')['rank'].first().sort_values().index.values)\n",
    "sns.despine()\n",
    "ax.set(xticks = [], ylabel = 'Log(Duplication Rate)', xlabel = 'less bias ← Peaks → more bias')"
   ]
  },
  {
   "cell_type": "markdown",
   "metadata": {},
   "outputs": [],
   "source": [
    "# Differential Peaks Analysis"
   ]
  },
  {
   "cell_type": "code",
   "execution_count": 18,
   "metadata": {},
   "outputs": [],
   "source": [
    "diffpeaks = utils.get_differential_peaks(raw_data)"
   ]
  },
  {
   "cell_type": "code",
   "execution_count": 30,
   "metadata": {},
   "outputs": [],
   "source": [
    "for cluster, data in diffpeaks.T.iterrows():\n",
    "    with open(os.path.join(snakemake.output[0], 'cluster_{}_diffpeaks.bed'.format(str(cluster))), 'w') as f:\n",
    "        print('\\n'.join([x.replace('_','\\t') for x in data.values]), file = f)"
   ]
  }
 ],
 "metadata": {
  "kernelspec": {
   "display_name": "Python 3",
   "language": "python",
   "name": "python3"
  },
  "language_info": {
   "codemirror_mode": {
    "name": "ipython",
    "version": 3
   },
   "file_extension": ".py",
   "mimetype": "text/x-python",
   "name": "python",
   "nbconvert_exporter": "python",
   "pygments_lexer": "ipython3",
   "version": "3.6.11"
  }
 },
 "nbformat": 4,
 "nbformat_minor": 4
}
